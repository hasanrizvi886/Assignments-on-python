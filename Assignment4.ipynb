{
 "cells": [
  {
   "cell_type": "markdown",
   "id": "1646b0d8-a240-4e0a-94e9-bf2a6332b471",
   "metadata": {},
   "source": [
    "**Que1.** What exactly is []?\n",
    "\n",
    "**Ans1.** In Python, [] represents an empty list. A list is a built-in data type in Python that can hold a collection of values. An empty list is simply a list that does not contain any elements."
   ]
  },
  {
   "cell_type": "markdown",
   "id": "6e7a1d32-c4e5-44a4-82f6-417fc838693e",
   "metadata": {},
   "source": [
    "**Que2.** In a list of values stored in a variable called spam, how would you assign the value &#39;hello&#39; as the\n",
    "third value? (Assume [2, 4, 6, 8, 10] are in spam.)"
   ]
  },
  {
   "cell_type": "code",
   "execution_count": 1,
   "id": "1371ffdf-5634-452b-9963-f0ea8d5e9b80",
   "metadata": {},
   "outputs": [],
   "source": [
    "#**Ans2.** \n",
    "spam = [2, 4, 6, 8, 10]\n",
    "spam[2] = 'hello'\n"
   ]
  },
  {
   "cell_type": "markdown",
   "id": "e46dc89d-1ba3-448f-b0d2-4f4446cae862",
   "metadata": {},
   "source": [
    "**Que3.** What is the value of spam[int(int(&#39;3&#39; * 2) / 11)]?\n",
    "\n",
    "**Ans3.** \n",
    "\n",
    "'3' * 2 evaluates to the string '33'\n",
    "\n",
    "int('33') converts the string '33' to an integer value, which is 33\n",
    "\n",
    "11 is an integer value.\n",
    "\n",
    "int('33') / 11 performs integer division between 33 and 11, resulting in 3\n",
    "\n",
    "spam[3] accesses the element at index 3 in the list spam."
   ]
  },
  {
   "cell_type": "markdown",
   "id": "3b2057a0-1a72-402b-83a3-154e4b4d09fb",
   "metadata": {},
   "source": [
    "**Que4.** What is the value of spam[-1]?\n",
    "\n",
    "**Ans4.** The value of spam[-1] depends on the contents of the spam list.\n",
    "\n",
    "In Python, negative indexing allows you to access elements from the end of a list. -1 refers to the last element, -2 refers to the second-to-last element, and so on.\n"
   ]
  },
  {
   "cell_type": "markdown",
   "id": "f7e00ff6-eeb1-46e4-a82f-e7359d0a4072",
   "metadata": {},
   "source": [
    "**Que5.** What is the value of spam[:2]?\n",
    "\n",
    "**Ans5.** In Python, the slicing operator [:] allows you to extract a portion of a list based on the specified start and end indices. The start index is inclusive, while the end index is exclusive. If either the start or end index is omitted, it defaults to the beginning or end of the list, respectively.\n",
    "\n",
    "spam = [10, 20, 30, 40, 50]\n",
    "\n",
    "Then, spam[:2] will evaluate to [10, 20]. It extracts the elements starting from index 0 up to index 2 (exclusive), which includes the first two elements [10, 20]."
   ]
  },
  {
   "cell_type": "markdown",
   "id": "9027393c-0e64-414f-82a5-75d09b2523e4",
   "metadata": {},
   "source": [
    "***Let&#39;s pretend bacon has the list [3.14, &#39;cat,&#39; 11, &#39;cat,&#39; True] for the next three questions***"
   ]
  },
  {
   "cell_type": "markdown",
   "id": "eca2d24d-12dc-4d93-8b39-020c3f8c9fc7",
   "metadata": {},
   "source": [
    "**Que6.** What is the value of bacon.index(&#39;cat&#39;)?\n",
    "\n",
    "**Ans6.** 1"
   ]
  },
  {
   "cell_type": "markdown",
   "id": "1e0d656d-5740-434a-8395-dae36d343699",
   "metadata": {},
   "source": [
    "**Que7.** How does bacon.append(99) change the look of the list value in bacon?\n",
    "\n",
    "**Ans7.**   [3.14, &#39;cat,&#39; 11, &#39;cat,&#39; True, 99]"
   ]
  },
  {
   "cell_type": "markdown",
   "id": "9a79d066-5a43-43ae-95e7-beedf570a067",
   "metadata": {},
   "source": [
    "**Que8.** How does bacon.remove(&#39;cat&#39;) change the look of the list in bacon?\n",
    "\n",
    "**Ans8.** [3.14, 11, 'cat', True]"
   ]
  },
  {
   "cell_type": "markdown",
   "id": "9e9df9ef-3423-4c36-af0e-0fc3fd5ab6d1",
   "metadata": {},
   "source": [
    "**Que9.** What are the list concatenation and list replication operators?\n",
    "\n",
    "**Ans9.** \n",
    "       \n",
    "       1. List Concatenation Operator (+): The + operator is used to concatenate two or more lists together, resulting in a new list that contains all the elements from the concatenated lists.\n",
    "       \n",
    "       \n",
    "       2. List Replication Operator (*): The * operator is used to replicate a list by a specified number of times, creating a new list with repeated elements.\n",
    "\n",
    "\n"
   ]
  },
  {
   "cell_type": "markdown",
   "id": "f015b73c-5ed3-40c1-9637-661095265367",
   "metadata": {},
   "source": [
    "**Que10.** What is difference between the list methods append() and insert()?\n",
    "\n",
    "**Ans10.** \n",
    "          \n",
    "          Append() method: The append() method is used to add an element to the end of a list. It takes a single argument, which is the element to be added, and appends it to the end of the list.\n",
    "\n",
    "eg.\n",
    "\n",
    "my_list = [1, 2, 3]\n",
    "\n",
    "my_list.append(4)\n",
    "\n",
    "print(my_list)  \n",
    "\n",
    " Output: [1, 2, 3, 4]\n",
    "\n",
    "          \n",
    "          Insert() method: The insert() method is used to add an element at a specific position in the list. It takes two arguments: the index where the element should be inserted, and the element itself.\n",
    "          \n",
    "eg. \n",
    "\n",
    "my_list = [1, 2, 3]\n",
    "\n",
    "my_list.insert(1, 5)\n",
    "\n",
    "print(my_list)  \n",
    "\n",
    "Output: [1, 5, 2, 3]\n"
   ]
  },
  {
   "cell_type": "markdown",
   "id": "c442dae1-a8ed-48f1-bd59-3cf65d69c98f",
   "metadata": {},
   "source": [
    "**Que11.** What are the two methods for removing items from a list?\n",
    "\n",
    "**Ans11.** \n",
    "\n",
    "Remove(): The remove() method is used to remove the first occurrence of a specified value from a list. It takes a single argument, which is the value to be removed. If the value is found in the list, it is removed; otherwise, a ValueError is raised.\n",
    "\n",
    "\n",
    "Example:\n",
    "\n",
    "my_list = [1, 2, 3, 4, 3, 5]\n",
    "\n",
    "my_list.remove(3)\n",
    "\n",
    "print(my_list)  \n",
    "\n",
    "Output: [1, 2, 4, 3, 5]\n",
    "\n",
    "Pop(): The pop() method is used to remove an element from a list at a specified index. It takes an optional index argument, which represents the index of the element to be removed. If no index is specified, it removes and returns the last element in the list.\n",
    "\n",
    "Example:\n",
    "\n",
    "my_list = [1, 2, 3, 4, 5]\n",
    "\n",
    "removed_element = my_list.pop(2)\n",
    "\n",
    "print(my_list)  \n",
    "\n",
    "Output: [1, 2, 4, 5]\n",
    "\n",
    "print(removed_element)  # Output: 3"
   ]
  },
  {
   "cell_type": "markdown",
   "id": "7c5c650b-f424-4bd5-a51f-fd4bb2e47a21",
   "metadata": {},
   "source": [
    "**Que12.** Describe how list values and string values are identical.\n",
    "\n",
    "**Ans12.**  List values and string values in Python have some similarities and can be considered identical in certain aspects:\n",
    "\n",
    "1. Sequence Type: Both lists and strings are sequence types in Python. They are ordered collections of elements, meaning the order of the elements is preserved.\n",
    "\n",
    "2. Indexing: Both lists and strings support indexing, allowing you to access individual elements by their position in the sequence. You can use square brackets `[]` and an index to retrieve a specific element.\n",
    "\n",
    "3. Slicing: Both lists and strings support slicing, which allows you to extract a portion of the sequence by specifying a start and end index. Slicing returns a new list or string containing the selected elements.\n",
    "\n",
    "4. Iteration: You can iterate over both lists and strings using loops or other iterable operations. This allows you to access each element in the sequence one by one.\n",
    "\n",
    "However, there are also some important differences between lists and strings:\n",
    "\n",
    "1. Mutable vs. Immutable: Lists are mutable, meaning you can modify their elements by assigning new values to specific indices, adding or removing elements. Strings, on the other hand, are immutable, which means you cannot change individual characters in a string. Instead, you need to create a new string with the desired modifications.\n",
    "\n",
    "2. Type of Elements: Lists can contain elements of different types, including numbers, strings, other lists, and more. In contrast, strings consist of a sequence of characters and are limited to containing only characters.\n",
    "\n",
    "3. Methods and Operations: Lists and strings have different sets of methods and operations tailored to their specific characteristics. For example, lists have methods like `append()`, `insert()`, and operations like list concatenation (`+`) and repetition (`*`), while strings have methods for string manipulation, searching, and formatting.\n",
    "\n",
    "Overall, while lists and strings share some similarities in their behavior as sequence types, they also have distinct properties and capabilities that make them suitable for different purposes."
   ]
  },
  {
   "cell_type": "markdown",
   "id": "b583e411-ef05-4186-8711-a8f8932fa1b4",
   "metadata": {},
   "source": [
    "**Que13.** What&#39;s the difference between tuples and lists?\n",
    "\n",
    "**Ams13.**  \n",
    "\n",
    "Tuples and lists are both common data structures in Python, but they have some key differences in terms of their properties and usage:\n",
    "\n",
    "    1. Mutability: Lists are mutable, meaning their elements can be modified after creation. You can add, remove, or change elements in a list using various methods and operations. In contrast, tuples are immutable, which means their elements cannot be modified once they are assigned. Once a tuple is created, you cannot add, remove, or change its elements.\n",
    "\n",
    "Syntax: Lists are defined using square brackets [ ], while tuples are defined using parentheses ( ). \n",
    "\n",
    "For example:\n",
    "\n",
    "my_list = [1, 2, 3]\n",
    "\n",
    "my_tuple = (1, 2, 3)\n",
    "\n",
    "     2. Usage: Lists are commonly used when you need a collection of elements that may change or need to be modified dynamically. They are suitable for scenarios where you need to perform operations like appending, inserting, or removing elements. Tuples, on the other hand, are typically used when you have a collection of elements that should remain constant and not be modified. Tuples are often used to represent fixed sets of values, such as coordinates, database records, or function return values.\n",
    "\n",
    "    3. Performance: Tuples are generally more efficient in terms of memory and performance compared to lists. Since tuples are immutable, they require less memory and can be optimized by the Python interpreter. Lists, being mutable, require additional memory overhead to handle operations like resizing and element modification.\n",
    "\n",
    "    4.Methods and Operations: Lists have a wide range of built-in methods and operations for adding, removing, sorting, and manipulating elements. Tuples have a limited set of methods, mainly for basic operations like indexing, slicing, and counting elements. Tuples lack methods that modify the tuple itself since they are immutable.\n",
    "\n"
   ]
  },
  {
   "cell_type": "markdown",
   "id": "758c595d-54da-410b-bc0a-297df0df0ff2",
   "metadata": {},
   "source": [
    "**Que14.** How do you type a tuple value that only contains the integer 42?\n",
    "\n",
    "**Ans14.**  \n",
    "\n",
    "my_tuple = (42,)\n",
    "\n",
    "print(type(my_tuple))  # Output: <class 'tuple'>\n",
    "\n",
    "print(my_tuple)  # Output: (42,)\n"
   ]
  },
  {
   "cell_type": "markdown",
   "id": "6f575475-366a-40b0-9cc9-142fd9d3de26",
   "metadata": {},
   "source": [
    "**Que15.** How do you get a list value&#39;s tuple form? How do you get a tuple value&#39;s list form?\n",
    "\n",
    "**Ans15.** \n",
    "\n",
    "To convert a list value to a tuple,\n",
    "\n",
    "  my_list = [1, 2, 3, 4, 5]\n",
    "  \n",
    "  my_tuple = tuple(my_list)\n",
    "\n",
    "To convert a tuple value to a list,\n",
    "\n",
    "  my_tuple = (1, 2, 3, 4, 5)\n",
    "  \n",
    "  my_list = list(my_tuple)\n"
   ]
  },
  {
   "cell_type": "markdown",
   "id": "b64a111c-df4f-48b9-a7dc-3b6ff8762674",
   "metadata": {},
   "source": [
    "**Que16.** Variables that &quot;contain&quot; list values are not necessarily lists themselves. Instead, what do they\n",
    "contain?\n",
    "\n",
    "**Ans16.**\n",
    "\n",
    "Variables that \"contain\" list values in Python do not actually store the list directly. Instead, they store a reference to the list object in memory. In other words, the variable holds the memory address where the list is stored."
   ]
  },
  {
   "cell_type": "markdown",
   "id": "41c230de-b7de-4cea-880c-99286ff1aa1a",
   "metadata": {},
   "source": [
    "**Que17.** How do you distinguish between copy.copy() and copy.deepcopy()?\n",
    "\n",
    "**Ans17.**  The copy.copy() and copy.deepcopy() functions are part of the copy module in Python and are used to create copies of objects. However, they differ in how they handle object references and nested objects:\n",
    "\n",
    "copy.copy(): This function creates a shallow copy of an object. It copies the object itself but not the objects it refers to. If the copied object contains references to other objects, both the original object and the copied object will point to the same referenced objects. Changes made to the referenced objects will be reflected in both the original and copied objects.\n",
    "\n",
    "copy.deepcopy(): This function creates a deep copy of an object. It copies the object and recursively copies all the objects it refers to, including any nested objects. This ensures that the copied object and its referenced objects are completely independent of the original object and its references. Changes made to the referenced objects will not affect the original object or other copies."
   ]
  },
  {
   "cell_type": "code",
   "execution_count": null,
   "id": "b5a6b110-1291-41c2-9178-bbaebf36b80c",
   "metadata": {},
   "outputs": [],
   "source": []
  }
 ],
 "metadata": {
  "kernelspec": {
   "display_name": "Python 3 (ipykernel)",
   "language": "python",
   "name": "python3"
  },
  "language_info": {
   "codemirror_mode": {
    "name": "ipython",
    "version": 3
   },
   "file_extension": ".py",
   "mimetype": "text/x-python",
   "name": "python",
   "nbconvert_exporter": "python",
   "pygments_lexer": "ipython3",
   "version": "3.10.6"
  }
 },
 "nbformat": 4,
 "nbformat_minor": 5
}
