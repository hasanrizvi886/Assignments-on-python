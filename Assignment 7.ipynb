{
 "cells": [
  {
   "cell_type": "markdown",
   "metadata": {},
   "source": [
    "### Q.1. Create two int type variables, apply addition, subtraction, division and multiplications and store the results in variables. Then print the data in the following format by calling the\n",
    "      variables:\n",
    "        First variable is __ & second variable is __.\n",
    "        Addition: __ + __ = __\n",
    "        Subtraction: __ - __ = __\n",
    "        Multiplication: __ * __ = __\n",
    "        Division: __ / __ = __"
   ]
  },
  {
   "cell_type": "code",
   "execution_count": 1,
   "metadata": {},
   "outputs": [
    {
     "name": "stdout",
     "output_type": "stream",
     "text": [
      "First variable is 10 & second variable is 5.\n",
      "Addition: 10 + 5 = 15\n",
      "Subtraction: 10 - 5 = 5\n",
      "Multiplication: 10 * 5 = 50\n",
      "Division: 10 / 5 = 2.0\n"
     ]
    }
   ],
   "source": [
    "first_variable = 10\n",
    "\n",
    "second_variable = 5\n",
    "\n",
    " \n",
    "\n",
    "# Perform arithmetic operations\n",
    "\n",
    "addition_result = first_variable + second_variable\n",
    "\n",
    "subtraction_result = first_variable - second_variable\n",
    "\n",
    "multiplication_result = first_variable * second_variable\n",
    "\n",
    "division_result = first_variable / second_variable\n",
    "\n",
    " \n",
    "\n",
    "# Print the results in the specified format\n",
    "\n",
    "print(f\"First variable is {first_variable} & second variable is {second_variable}.\")\n",
    "\n",
    "print(f\"Addition: {first_variable} + {second_variable} = {addition_result}\")\n",
    "\n",
    "print(f\"Subtraction: {first_variable} - {second_variable} = {subtraction_result}\")\n",
    "\n",
    "print(f\"Multiplication: {first_variable} * {second_variable} = {multiplication_result}\")\n",
    "\n",
    "print(f\"Division: {first_variable} / {second_variable} = {division_result}\")\n"
   ]
  },
  {
   "cell_type": "markdown",
   "metadata": {},
   "source": [
    "### Q.2. What is the difference between the following operators:\n",
    "      (i) ‘/’ & ‘//’\n",
    "      (ii) ‘**’ & ‘^’\n",
    "       \n",
    "### Ans.2. \n",
    "     (i) Difference between '/' and '//':\n",
    "        '/' is the division operator in Python, and it performs floating-point division. It returns a floating-point result with decimal places if necessary.\n",
    "        \n",
    "        '//' is the floor division operator in Python. It performs integer division and returns the largest integer less than or equal to the result. It effectively truncates the decimal part of the result.      \n",
    "        \n",
    "     \n",
    "     \n",
    "     (ii) Difference between '**' and '^':\n",
    "        '**' is the exponentiation operator in Python. It is used for raising a number to a power. For example, `x ** y` means x raised to the power of y.\n",
    "        \n",
    "        '^' is not a built-in operator for exponentiation in Python. It is often mistakenly used for this purpose. In Python, '^' is the bitwise XOR operator, used for performing bitwise XOR operations on integers."
   ]
  },
  {
   "cell_type": "markdown",
   "metadata": {},
   "source": [
    "### Q.3. List the logical operators.\n",
    "\n",
    "### Ans.3. \n",
    "     In Python, Logical operators are used on conditional statements (either True or False). They perform Logical AND, Logical OR and Logical NOT operations.\n",
    "\n",
    "         1. And \tLogical AND: True if both the operands are true \n",
    "         2. Or  \tLogical OR: True if either of the operands is true \n",
    "         3. Not \tLogical NOT: True if operand is false  "
   ]
  },
  {
   "cell_type": "markdown",
   "metadata": {},
   "source": [
    "### Q.4. Explain right shift operator and left shift operator with examples."
   ]
  },
  {
   "cell_type": "markdown",
   "metadata": {},
   "source": [
    "### Ans.4. \n",
    "       In Python, the right shift (`>>`) and left shift (`<<`) operators are used for bitwise shifting of binary representations of integers. These operators allow you to shift the bits of an integer value to the right or left by a specified number of positions."
   ]
  },
  {
   "cell_type": "markdown",
   "metadata": {},
   "source": [
    "1. **Right Shift Operator (`>>`)**:\n",
    "   - The right shift operator (`>>`) shifts the bits of a binary number to the right by a specified number of positions. It effectively divides the number by 2 raised to the power of the shift count (position).\n",
    "   - In a right shift operation, the rightmost bits are discarded, and the vacant positions on the left are filled with the sign bit (0 for positive numbers and 1 for negative numbers) to preserve the sign of the number.\n",
    "\n",
    "   Example:\n",
    "   \n",
    "         x = 12  # Binary: 1100\n",
    "         y = x >> 2  # Right shift by 2 positions\n",
    "\n",
    " #### Binary representation of y after right shift:\n",
    " #### 00|11\n",
    " #### Result: 3 (Decimal)\n",
    "   \n",
    "   \n",
    "   \n",
    "   \n",
    "2. **Left Shift Operator (`<<`)**:\n",
    "   - The left shift operator (`<<`) shifts the bits of a binary number to the left by a specified number of positions. It effectively multiplies the number by 2 raised to the power of the shift count (position).\n",
    "   - In a left shift operation, the leftmost bits are shifted out (discarded), and the vacant positions on the right are filled with zeros.\n",
    "\n",
    " \n",
    "\n",
    "   Example:\n",
    "        x = 6  # Binary: 0110\n",
    "        y = x << 2  # Left shift by 2 positions\n",
    "\n",
    " \n",
    "#### Binary representation of y after left shift:\n",
    "#### 11|00\n",
    "#### Result: 24 (Decimal)   "
   ]
  },
  {
   "cell_type": "markdown",
   "metadata": {},
   "source": [
    "### Q.5. Create a list containing int type data of length 15. Then write a code to check if 10 is present in the list or not."
   ]
  },
  {
   "cell_type": "code",
   "execution_count": 1,
   "metadata": {},
   "outputs": [
    {
     "name": "stdout",
     "output_type": "stream",
     "text": [
      "10 is present in the list.\n"
     ]
    }
   ],
   "source": [
    "# Ans. 5.\n",
    "\n",
    "my_list = [2, 4, 6, 8, 10, 12, 14, 16, 18, 20, 22, 24, 26, 28, 30]\n",
    "\n",
    "# Check if 10 is present in the list\n",
    "if 10 in my_list:\n",
    "    print(\"10 is present in the list.\")\n",
    "else:\n",
    "    print(\"10 is not present in the list.\")"
   ]
  },
  {
   "cell_type": "code",
   "execution_count": null,
   "metadata": {},
   "outputs": [],
   "source": []
  }
 ],
 "metadata": {
  "kernelspec": {
   "display_name": "Python 3",
   "language": "python",
   "name": "python3"
  },
  "language_info": {
   "codemirror_mode": {
    "name": "ipython",
    "version": 3
   },
   "file_extension": ".py",
   "mimetype": "text/x-python",
   "name": "python",
   "nbconvert_exporter": "python",
   "pygments_lexer": "ipython3",
   "version": "3.7.6"
  }
 },
 "nbformat": 4,
 "nbformat_minor": 4
}
