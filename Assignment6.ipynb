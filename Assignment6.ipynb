{
 "cells": [
  {
   "cell_type": "markdown",
   "id": "5c67248e-8a32-42ff-a37d-61dd35c85675",
   "metadata": {},
   "source": [
    "## Q.1. What are keywords in python? Using the keyword library, print all the python keywords.\n",
    "\n",
    "#### Ans. 1 \n",
    "        In Python, keywords are reserved words that have specific meanings and purposes. These words cannot be used as identifiers (e.g., variable names, function names) because they are part of the language's syntax and serve predefined roles. Python keywords are case-sensitive.\n",
    "\n",
    "      "
   ]
  },
  {
   "cell_type": "code",
   "execution_count": 2,
   "id": "bd791243-b38c-4d49-bb05-cf8ed8d71d1b",
   "metadata": {},
   "outputs": [
    {
     "name": "stdout",
     "output_type": "stream",
     "text": [
      "['False', 'None', 'True', 'and', 'as', 'assert', 'async', 'await', 'break', 'class', 'continue', 'def', 'del', 'elif', 'else', 'except', 'finally', 'for', 'from', 'global', 'if', 'import', 'in', 'is', 'lambda', 'nonlocal', 'not', 'or', 'pass', 'raise', 'return', 'try', 'while', 'with', 'yield']\n"
     ]
    }
   ],
   "source": [
    "import keyword\n",
    "\n",
    "all_keywords = keyword.kwlist\n",
    "print(all_keywords)\n"
   ]
  },
  {
   "cell_type": "markdown",
   "id": "365aa351-0344-4530-b5b7-5a010a0fbcac",
   "metadata": {},
   "source": [
    "## Q.2. What are the rules to create variables in python?\n",
    "#### Ans 2. A variable can have a short name (like x and y) or a more descriptive name (age, carname, total_volume). \n",
    "        Rules for Python variables:\n",
    "                A variable name must start with a letter or the underscore character\n",
    "                A variable name cannot start with a number\n",
    "                A variable name can only contain alpha-numeric characters and underscores (A-z, 0-9, and _ )\n",
    "                Variable names are case-sensitive (age, Age and AGE are three different variables)\n",
    "                A variable name cannot be any of the Python keywords."
   ]
  },
  {
   "cell_type": "markdown",
   "id": "954d1150-9b2d-49ca-b24a-2b708764f9f5",
   "metadata": {},
   "source": [
    "## Q.3. What are the standards and conventions followed for the nomenclature of variables in python to improve code readability and maintainability?\n",
    "\n",
    "#### Ans 3. In Python, adhering to certain standards and conventions for naming variables is crucial for improving code readability and maintainability. The Python community follows the guidelines outlined in PEP 8 (Python Enhancement Proposal 8) which provides recommendations for code style. Here are some key standards and conventions related to variable names:\n",
    "\n",
    "1. **Use descriptive names**: Choose variable names that are meaningful and describe the purpose of the variable. Avoid single-letter names or overly abbreviated names that don't convey the variable's intent.\n",
    "\n",
    "2. **Use lowercase with underscores (snake_case)**: Variable names should be written in all lowercase letters with underscores separating words. For example: `user_name`, `age_of_person`, `total_count`.\n",
    "\n",
    "3. **Avoid using single underscores as prefixes**: Although a single underscore prefix (e.g., `_variable`) is not prohibited, it's generally used to indicate that a variable or method is intended for internal use or is a non-public part of the API.\n",
    "\n",
    "4. **Use uppercase for constants**: Constants, which are variables that shouldn't be changed after assignment, should be written in all uppercase with underscores separating words. For example: `MAX_ITERATIONS`, `PI`, `DEFAULT_VALUE`.\n",
    "\n",
    "5. **Be consistent**: Maintain consistency in naming across your codebase. If you choose a specific naming convention, stick to it throughout your project.\n",
    "\n",
    "6. **Avoid using built-in names**: Avoid using names that are already defined as built-in functions or keywords in Python (e.g., `list`, `str`, `print`, etc.).\n",
    "\n",
    "7. **Use meaningful variable names for loops**: When using loop variables, use descriptive names that indicate what the variable represents. For example: `for item in items` is preferable to `for i in items`.\n",
    "\n",
    "8. **Use nouns for variables**: Variable names should generally be nouns or noun phrases. For example: `student`, `temperature`, `data_list`.\n",
    "\n",
    "9. **Use verb-noun pairs for function names**: If a variable is intended to represent the result of an action, consider using a verb-noun naming pattern. For example: `calculate_sum()`, `get_data()`.\n",
    "\n",
    "10. **Avoid overly generic names**: Avoid using generic names like `data`, `value`, or `temp`, as they don't provide much context about what the variable represents.\n",
    "\n",
    "Remember that adhering to these standards is not mandatory, but it's strongly recommended to follow them as they help create code that is easier to read, understand, and maintain, especially when collaborating with other developers. Many code editors and IDEs have built-in support for PEP 8 guidelines, making it easier to maintain consistency and follow these naming conventions."
   ]
  },
  {
   "cell_type": "markdown",
   "id": "031e7420-0d4f-483e-b8ef-7d68bb3a5bd1",
   "metadata": {},
   "source": [
    "## Q.4. What will happen if a keyword is used as a variable name?\n",
    "#### Ans 5.   If you use a Python keyword as a variable name, you will encounter a syntax error when you try to run or execute the code. Keywords are reserved words in Python that have specific meanings and functionalities associated with them."
   ]
  },
  {
   "cell_type": "markdown",
   "id": "70084d25-5cab-47ff-9618-6c0a5195c1fa",
   "metadata": {},
   "source": [
    "## Q.5. For what purpose def keyword is used?\n",
    "#### Ans 4. The def keyword in Python is used to define functions. A function is a block of organized, reusable code that performs a specific task."
   ]
  },
  {
   "cell_type": "markdown",
   "id": "de42690b-36fa-4f3d-a993-3329eaf68ced",
   "metadata": {},
   "source": [
    "## Q.6. What is the operation of this special character ‘\\’?\n",
    "#### Ans 6. The special character '\\' (backslash) in Python is used as an escape character. It is used to represent certain special sequences within strings and characters that have special meanings."
   ]
  },
  {
   "cell_type": "markdown",
   "id": "00fa9e81-6945-48c9-b83a-8fd137cb04c2",
   "metadata": {},
   "source": [
    "## Q.7. Give an example of the following conditions:\n",
    "     (i) Homogeneous list \n",
    "     (ii) Heterogeneous set\n",
    "     (iii) Homogeneous tuple\n",
    "     \n",
    "     \n",
    "#### Ans 7. (i) Homogeneous List:\n",
    "          A homogeneous list is a list where all elements have the same data type. In Python, lists can contain elements of different data types, but a homogeneous list contains elements of the same data type.\n",
    "\n",
    "     # Example of a homogeneous list of integers\n",
    "           homogeneous_int_list = [1, 2, 3, 4, 5]\n",
    " \n",
    "\n",
    "      (ii) Heterogeneous Set:\n",
    "        A heterogeneous set is a set where elements can have different data types. In Python, sets are collections of unique elements, and they can contain elements of different types.\n",
    "\n",
    "\n",
    "        # Example of a heterogeneous set \n",
    "             heterogeneous_set = {1, \"apple\", 3.14, True}\n",
    "\n",
    "\n",
    "      (iii) Homogeneous Tuple:\n",
    "            A homogeneous tuple is a tuple where all elements have the same data type. Tuples are similar to lists, but they are immutable, meaning their elements cannot be changed after creation.\n",
    "\n",
    "\n",
    "    # Example of a homogeneous tuple of integers\n",
    "           homogeneous_int_tuple = (10, 20, 30, 40)\n"
   ]
  },
  {
   "cell_type": "markdown",
   "id": "c3a3cd0c-aed4-4b6b-b866-d4fd2ca70465",
   "metadata": {},
   "source": [
    "## Q.8. Explain the mutable and immutable data types with proper explanation & examples.\n",
    "#### Ans 8. \n",
    "     1.Mutable Data Types: Mutable data types are those whose values can be modified or changed after creation. When you modify a mutable object, it refers to the same memory location, and its content is updated in-place. This means that the object itself remains the same, but its internal state can be altered.\n",
    "         \n",
    "         Examples of mutable data types in Python include:\n",
    "\n",
    "                 .Lists\n",
    "                 .Sets\n",
    "                 .Dictionaries\n",
    "                \n",
    "                \n",
    "     2. Immutable Data Types: Immutable data types are those whose values cannot be changed after they are created. Once an immutable object is created, its internal state cannot be modified. If you want to change the value of an immutable object, you need to create a new object with the desired value.\n",
    "   \n",
    "     Examples of immutable data types in Python include:\n",
    "\n",
    "                 .Numbers (int, float, complex)\n",
    "                 .Strings\n",
    "                .Tuples"
   ]
  },
  {
   "cell_type": "markdown",
   "id": "0a1b15b4-b412-4397-be43-ab3bb36e7c5b",
   "metadata": {},
   "source": [
    "## Q.9. Write a code to create the given structure using only for loop.\n",
    "     *\n",
    "     ***\n",
    "     *****\n",
    "     *******\n",
    "     *********"
   ]
  },
  {
   "cell_type": "code",
   "execution_count": 2,
   "id": "5046a81e-e352-4136-a820-fc07a8a11385",
   "metadata": {},
   "outputs": [
    {
     "name": "stdout",
     "output_type": "stream",
     "text": [
      "*\n",
      "***\n",
      "*****\n",
      "*******\n",
      "*********\n"
     ]
    }
   ],
   "source": [
    "#Ans 9. Define the number of rows for the pattern\n",
    "num_rows = 5\n",
    "\n",
    "# Outer loop to iterate through rows\n",
    "for i in range(num_rows):\n",
    "    # Inner loop to print the stars for each row\n",
    "    for j in range(2 * i + 1):\n",
    "        print(\"*\", end=\"\")\n",
    "    print()  # Move to the next line after each row is printed\n"
   ]
  },
  {
   "cell_type": "markdown",
   "id": "4491aa7f-a3e5-4aa5-b9c0-dc6f9a2bafd6",
   "metadata": {},
   "source": [
    "## Q.10. Write a code to create the given structure using while loop.\n",
    "    |||||||||\n",
    "    |||||||\n",
    "    |||||\n",
    "    |||\n",
    "    |"
   ]
  },
  {
   "cell_type": "code",
   "execution_count": 3,
   "id": "94d66c29-cb15-4bf7-b872-2c8564f82d99",
   "metadata": {},
   "outputs": [
    {
     "name": "stdout",
     "output_type": "stream",
     "text": [
      "|||||||||\n",
      "|||||||\n",
      "|||||\n",
      "|||\n",
      "|\n"
     ]
    }
   ],
   "source": [
    "# Define the number of rows for the pattern\n",
    "num_rows = 5\n",
    "\n",
    "# Initialize the variable for the number of vertical bars in the first row\n",
    "bars = 9\n",
    "\n",
    "# Outer loop to iterate through rows\n",
    "while num_rows > 0:\n",
    "    # Inner loop to print the vertical bars for each row\n",
    "    i = 0\n",
    "    while i < bars:\n",
    "        print(\"|\", end=\"\")\n",
    "        i += 1\n",
    "    print()  # Move to the next line after each row is printed\n",
    "    \n",
    "    # Decrease the number of vertical bars for the next row\n",
    "    bars -= 2\n",
    "    \n",
    "    # Move to the next row\n",
    "    num_rows -= 1\n"
   ]
  },
  {
   "cell_type": "code",
   "execution_count": null,
   "id": "412151e3-190e-411f-9df1-32051c417ae6",
   "metadata": {},
   "outputs": [],
   "source": []
  }
 ],
 "metadata": {
  "kernelspec": {
   "display_name": "Python 3 (ipykernel)",
   "language": "python",
   "name": "python3"
  },
  "language_info": {
   "codemirror_mode": {
    "name": "ipython",
    "version": 3
   },
   "file_extension": ".py",
   "mimetype": "text/x-python",
   "name": "python",
   "nbconvert_exporter": "python",
   "pygments_lexer": "ipython3",
   "version": "3.10.6"
  }
 },
 "nbformat": 4,
 "nbformat_minor": 5
}
