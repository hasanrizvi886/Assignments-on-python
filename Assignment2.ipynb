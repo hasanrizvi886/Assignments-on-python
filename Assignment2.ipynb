{
 "cells": [
  {
   "cell_type": "markdown",
   "id": "6996d227-1e90-4962-a76a-7008636bb60d",
   "metadata": {},
   "source": [
    "**Que1.** What are the two values of the Boolean data type? How do you write them?\n",
    "\n",
    "**Ans1.**\n",
    "\n",
    "      a. True\n",
    "      b. False\n",
    "      \n",
    "True: Represents the true state or a logical true value.\n",
    "\n",
    "False: Represents the false state or a logical false value."
   ]
  },
  {
   "cell_type": "markdown",
   "id": "9f02d0d2-f4be-48d8-9f11-b6151f032148",
   "metadata": {},
   "source": [
    "**Que2.** What are the three different types of Boolean operators?\n",
    "\n",
    "**Ans2.** \n",
    "       \n",
    "       a. AND\n",
    "       b. OR\n",
    "       c. NOT"
   ]
  },
  {
   "cell_type": "markdown",
   "id": "cdb30366-246d-4f6d-ae6f-d0c63e948a4d",
   "metadata": {},
   "source": [
    "**Que3.** Make a list of each Boolean operator &#39;s truth tables (i.e. every possible combination of Boolean\n",
    "values for the operator and what it evaluate ).\n",
    "\n",
    "**Ans3.** \n",
    "\n",
    "Logical AND (and):\n",
    "\n",
    "Operand 1\tOperand 2\tResult\n",
    "\n",
    "True\t    True\t    True\n",
    "\n",
    "True\t    False\t    False\n",
    "\n",
    "False\t    True\t    False\n",
    "\n",
    "False\t    False\t    False\n",
    "\n",
    "Logical OR (or):\n",
    "\n",
    "Operand 1\tOperand 2\tResult\n",
    "\n",
    "True     \tTrue     \tTrue\n",
    "\n",
    "True    \tFalse   \tTrue\n",
    "\n",
    "False   \tTrue    \tTrue\n",
    "\n",
    "False\t    False   \tFalse\n",
    "\n",
    "Logical NOT (not):\n",
    "\n",
    "Operand\tResult\n",
    "\n",
    "True\tFalse\n",
    "\n",
    "False\tTrue\n"
   ]
  },
  {
   "cell_type": "markdown",
   "id": "5ac6f7f8-8982-4b2d-a08e-0501ce94631c",
   "metadata": {},
   "source": [
    "**Que3.** Make a list of each Boolean operator&#39;s truth tables (i.e. every possible combination of Boolean\n",
    "values for the operator and what it evaluate ).\n",
    "\n",
    "**Ans3.** \n",
    "\n",
    "Logical AND (and):\n",
    "\n",
    "Operand 1\tOperand 2\tResult\n",
    "\n",
    "True\tTrue\tTrue\n",
    "\n",
    "True\tFalse\tFalse\n",
    "\n",
    "False\tTrue\tFalse\n",
    "\n",
    "False\tFalse\tFalse\n",
    "\n",
    "Logical OR (or):\n",
    "\n",
    "Operand 1\tOperand 2\tResult\n",
    "\n",
    "True\tTrue\tTrue\n",
    "\n",
    "True\tFalse\tTrue\n",
    "\n",
    "False\tTrue\tTrue\n",
    "\n",
    "False\tFalse\tFalse\n",
    "\n",
    "Logical NOT (not):\n",
    "\n",
    "Operand\tResult\n",
    "\n",
    "True\tFalse\n",
    "\n",
    "False\tTrue\n"
   ]
  },
  {
   "cell_type": "markdown",
   "id": "1d163332-1b4d-4fb6-bd53-d289281ff9bb",
   "metadata": {},
   "source": [
    "**Que4.** What are the values of the following expressions?\n",
    "\n",
    "(5 &gt; 4) and (3 == 5)\n",
    "\n",
    "not (5 &gt; 4)\n",
    "\n",
    "(5 &gt; 4) or (3 == 5)\n",
    "\n",
    "not ((5 &gt; 4) or (3 == 5))\n",
    "\n",
    "(True and True) and (True == False)\n",
    "\n",
    "(not False) or (not True)\n",
    "\n",
    "\n",
    "**Ans4.**\n",
    "\n",
    "     (5 > 4) and (3 == 5) evaluates to False.\n",
    "     not (5 > 4) evaluates to False.\n",
    "     (5 > 4) or (3 == 5) evaluates to True.\n",
    "     not ((5 > 4) or (3 == 5)) evaluates to False.\n",
    "     (True and True) and (True == False) evaluates to False.\n",
    "     (not False) or (not True) evaluates to True."
   ]
  },
  {
   "cell_type": "markdown",
   "id": "535c628a-f2e5-4e3c-866e-f002c5b28386",
   "metadata": {},
   "source": [
    "**Que5.** What are the six comparison operators?\n",
    "\n",
    "**Ans5.**\n",
    "      \n",
    "    1. ==\n",
    "    2. !=\n",
    "    3. >\n",
    "    4. <\n",
    "    5. >=\n",
    "    6. <="
   ]
  },
  {
   "cell_type": "markdown",
   "id": "3204493d-bd04-45c2-9e15-ef127ae96f0e",
   "metadata": {},
   "source": [
    "**Que6.** How do you tell the difference between the equal to and assignment operators? Describe a\n",
    "condition and when you would use one.\n",
    "\n",
    "**Ans6.**\n",
    "\n",
    "The equal to operator (==) and assignment operator (=) serve different purposes and can be distinguished based on their usage and context:\n",
    "\n",
    "Equal to operator (==):\n",
    "\n",
    "The equal to operator (==) is used to compare two values for equality.\n",
    "It returns True if the values on both sides are equal, and False if they are not equal.\n",
    "Example: x == y checks if the value of x is equal to the value of y.\n",
    "\n",
    "Assignment operator (=):\n",
    "\n",
    "The assignment operator (=) is used to assign a value to a variable.\n",
    "It assigns the value on the right-hand side to the variable on the left-hand side.\n",
    "Example: x = 10 assigns the value 10 to the variable x."
   ]
  },
  {
   "cell_type": "code",
   "execution_count": 1,
   "id": "7a01fa2f-8edb-440c-b383-ed7bb09b3340",
   "metadata": {},
   "outputs": [
    {
     "name": "stdout",
     "output_type": "stream",
     "text": [
      "x is not equal to y\n"
     ]
    }
   ],
   "source": [
    "x = 10  # Assignment operator: Assigns the value 10 to the variable x\n",
    "y = 5   # Assignment operator: Assigns the value 5 to the variable y\n",
    "\n",
    "if x == y:  # Equal to operator: Compares the values of x and y\n",
    "    print(\"x is equal to y\")\n",
    "else:\n",
    "    print(\"x is not equal to y\")\n",
    "\n",
    "# Output: \"x is not equal to y\"\n"
   ]
  },
  {
   "cell_type": "markdown",
   "id": "dc388622-463c-4810-b932-3f135953bcf5",
   "metadata": {},
   "source": [
    "**Que7.** Identify the three blocks in this code:\n",
    "\n",
    "spam = 0\n",
    "\n",
    "if spam == 10:\n",
    "\n",
    "print(&#39;eggs&#39;)\n",
    "\n",
    "if spam &gt; 5:\n",
    "\n",
    "print(&#39;bacon&#39;)\n",
    "\n",
    "else:\n",
    "\n",
    "print(&#39;ham&#39;)\n",
    "\n",
    "print(&#39;spam&#39;)\n",
    "\n",
    "print(&#39;spam&#39;)\n",
    "\n",
    "**Ans7.**\n",
    "\n",
    "Block 1.\n",
    "\n",
    "if spam == 10:\n",
    "\n",
    "print(&#39;eggs&#39;)\n",
    "\n",
    "Block 2. \n",
    "\n",
    "if spam &gt; 5:\n",
    "\n",
    "print(&#39;bacon&#39;)\n",
    "\n",
    "Block 3. \n",
    "\n",
    "else:\n",
    "\n",
    "print(&#39;ham&#39;)\n",
    "\n",
    "print(&#39;spam&#39;)\n",
    "\n",
    "print(&#39;spam&#39;)"
   ]
  },
  {
   "cell_type": "markdown",
   "id": "94236a79-2372-47e9-9c99-3fc801e1840d",
   "metadata": {},
   "source": [
    "**Que8.** Write code that prints Hello if 1 is stored in spam, prints Howdy if 2 is stored in spam, and prints\n",
    "Greetings! if anything else is stored in spam."
   ]
  },
  {
   "cell_type": "code",
   "execution_count": 4,
   "id": "3d68f1ae-01f4-4ee0-9850-7d7996f4f1a6",
   "metadata": {},
   "outputs": [
    {
     "name": "stdout",
     "output_type": "stream",
     "text": [
      "Hello\n"
     ]
    }
   ],
   "source": [
    "# **Ans8.**\n",
    "\n",
    "spam = 1\n",
    "\n",
    "if spam == 1:\n",
    "    print(\"Hello\")\n",
    "elif spam == 2:\n",
    "    print(\"Howdy\")\n",
    "else:\n",
    "    print(\"Greetings!\")\n"
   ]
  },
  {
   "cell_type": "markdown",
   "id": "8833dd63-167c-419f-86cb-cbe9a776a0c5",
   "metadata": {},
   "source": [
    "**Que9.** If your programme is stuck in an endless loop, what keys you’ll press?\n",
    "\n",
    "**Ans9.**\n",
    "\n",
    "    1.Ctrl+C: This is the most common key combination used to interrupt the execution of a program in most command line interfaces (CLI) and terminals. Pressing Ctrl+C sends a termination signal (SIGINT) to the running program, causing it to exit.\n",
    "\n",
    "    2.Ctrl+Break: On some systems, such as Windows, you can use Ctrl+Break to interrupt the execution of a program.\n",
    "\n",
    "    3.Ctrl+D: In some Unix-like systems, including Linux and macOS, you can use Ctrl+D to send an \"end-of-file\" (EOF) signal to the program, which can cause it to exit."
   ]
  },
  {
   "cell_type": "markdown",
   "id": "057b70b1-cd37-4b3a-978c-8d4d1dc56e21",
   "metadata": {},
   "source": [
    "**Que10.** How can you tell the difference between break and continue?\n",
    "\n",
    "**Ans10.**\n",
    "\n",
    "**Break statement**:\n",
    "\n",
    " When encountered within a loop (such as a for loop or a while loop), the break statement immediately terminates the loop's execution and transfers control to the next statement after the loop.\n",
    "\n",
    "It is commonly used when you want to prematurely exit a loop based on a certain condition.\n",
    "Example:\n",
    "\n",
    "\n",
    "for i in range(5):\n",
    "     if i == 3:\n",
    "         break\n",
    "     print(i)\n",
    "\n",
    "\n",
    "Output:\n",
    "\n",
    " 0\n",
    " 1\n",
    " 2\n",
    "\n",
    "\n",
    "**Continue statement**:\n",
    "\n",
    " When encountered within a loop, the continue statement skips the rest of the current iteration and moves to the next iteration of the loop.\n",
    "It is commonly used when you want to skip certain iterations based on a certain condition, without terminating the entire loop.\n",
    "Example:\n",
    "\n",
    " for i in range(5):\n",
    "     if i == 2:\n",
    "          continue\n",
    "     print(i)\n",
    "\n",
    " Output:\n",
    " 0\n",
    " 1\n",
    " 3\n",
    " 4\n",
    " "
   ]
  },
  {
   "cell_type": "markdown",
   "id": "3f97d1bb-f7be-4d00-a7da-252d9a3ecba4",
   "metadata": {},
   "source": [
    "**Que11.** In a for loop, what is the difference between range(10), range(0, 10), and range(0, 10, 1)?\n",
    "\n",
    "**Ans11.**\n",
    "\n",
    " range(10), range(0, 10), and range(0, 10, 1) generate the same sequence of numbers and result in the same output when used in a for loop. The differences lie in the explicitness of the start value and step value, with 0 and 1 being the default values if not specified."
   ]
  },
  {
   "cell_type": "markdown",
   "id": "97daa7bf-c76f-4218-8030-137fd1d0f6cc",
   "metadata": {},
   "source": [
    "**Que12.** Write a short program that prints the numbers 1 to 10 using a for loop. Then write an equivalent\n",
    "program that prints the numbers 1 to 10 using a while loop."
   ]
  },
  {
   "cell_type": "code",
   "execution_count": 7,
   "id": "d7888750-4680-4d79-a805-a3396ea8cd09",
   "metadata": {},
   "outputs": [
    {
     "name": "stdout",
     "output_type": "stream",
     "text": [
      "1\n",
      "2\n",
      "3\n",
      "4\n",
      "5\n",
      "6\n",
      "7\n",
      "8\n",
      "9\n",
      "10\n"
     ]
    }
   ],
   "source": [
    "# **Ans12.**\n",
    "\n",
    "for i in range(1,11):\n",
    "    print(i)\n",
    "    \n",
    "\n",
    "    \n"
   ]
  },
  {
   "cell_type": "code",
   "execution_count": 11,
   "id": "c0d4f3b8-5d2a-42d1-9a26-3bd26f1c2cb8",
   "metadata": {},
   "outputs": [
    {
     "name": "stdout",
     "output_type": "stream",
     "text": [
      "1\n",
      "2\n",
      "3\n",
      "4\n",
      "5\n",
      "6\n",
      "7\n",
      "8\n",
      "9\n",
      "10\n"
     ]
    }
   ],
   "source": [
    "#**Ans12.**\n",
    "\n",
    "i = 1\n",
    "while i <= 10:\n",
    "    print(i)\n",
    "    i += 1\n"
   ]
  },
  {
   "cell_type": "markdown",
   "id": "2de6bb31-d7cb-45ff-af59-8e2c3dcd66c0",
   "metadata": {},
   "source": [
    "**Que13.** If you had a function named bacon() inside a module named spam, how would you call it after\n",
    "importing spam?\n",
    "\n",
    "**Ans13.**\n",
    "\n",
    "import spam\n",
    "\n",
    "spam.bacon()"
   ]
  },
  {
   "cell_type": "code",
   "execution_count": null,
   "id": "eb5c29cd-5a6c-4de4-91bf-bba5227b7702",
   "metadata": {},
   "outputs": [],
   "source": []
  },
  {
   "cell_type": "code",
   "execution_count": null,
   "id": "347fcaaa-2ace-459b-b6a8-6bd8f8bcb102",
   "metadata": {},
   "outputs": [],
   "source": []
  }
 ],
 "metadata": {
  "kernelspec": {
   "display_name": "Python 3 (ipykernel)",
   "language": "python",
   "name": "python3"
  },
  "language_info": {
   "codemirror_mode": {
    "name": "ipython",
    "version": 3
   },
   "file_extension": ".py",
   "mimetype": "text/x-python",
   "name": "python",
   "nbconvert_exporter": "python",
   "pygments_lexer": "ipython3",
   "version": "3.10.6"
  }
 },
 "nbformat": 4,
 "nbformat_minor": 5
}
