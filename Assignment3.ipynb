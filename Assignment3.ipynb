{
 "cells": [
  {
   "cell_type": "markdown",
   "id": "1046d2a3-d240-4a55-8ca7-26e540e39aae",
   "metadata": {},
   "source": [
    "**Que1.** Why are functions advantageous to have in your programs?\n",
    "\n",
    "**Ans1.**\n",
    "\n",
    "Functions provide several advantages in programming:\n",
    "\n",
    "    1.Modularity: Functions allow you to break down your program into smaller, manageable, and reusable chunks of code. By organizing your code into functions, you can tackle complex problems by dividing them into simpler, focused tasks. This modular approach enhances code readability, maintainability, and reusability.\n",
    "    \n",
    "    2.Code Reusability: Functions can be defined once and used multiple times throughout your program or even in other programs. This promotes code reuse, reduces redundancy, and helps in maintaining a clean and efficient codebase. Instead of rewriting the same code in multiple places, you can simply call the function wherever it's needed.\n",
    "\n",
    "    3. Abstraction: Functions enable abstraction by hiding the internal implementation details and providing a higher-level interface. You can define a function with a well-defined purpose, input parameters, and expected output, without exposing the underlying implementation. This allows other parts of the program to use the function without needing to understand how it works internally.\n",
    "\n",
    "    4. Code Organization: Functions allow you to organize your code into logical blocks, improving code organization and structure. By encapsulating related code within functions, you can easily locate and manage specific functionality. This leads to cleaner and more maintainable code.\n",
    "\n",
    "    5. Readability and Debugging: Functions promote code readability by giving meaningful names to blocks of code and encapsulating logic into self-contained units. This makes it easier for developers to understand the purpose and behavior of the code. Additionally, functions help in debugging because you can isolate and test specific parts of the code independently, making it easier to identify and fix issues.\n",
    "\n",
    "    6.Scoping and Variable Management: Functions have their own local scope, allowing you to define variables that are only accessible within the function. This prevents naming conflicts and allows for better variable management. Functions can also accept arguments as inputs, enabling parameterization and making the code more flexible.\n",
    "\n",
    "Overall, functions enhance code organization, reusability, readability, and maintainability, making programs more efficient, modular, and easier to understand and maintain.\n",
    "\n"
   ]
  },
  {
   "cell_type": "markdown",
   "id": "852ac872-ad3a-4412-bbac-22b1538f2ee9",
   "metadata": {},
   "source": [
    "**Que2.** When does the code in a function run: when it&#39;s specified or when it&#39;s called?\n",
    "\n",
    "**Ans2.**\n",
    "\n",
    "The code inside the function is not executed immediately upon definition. It is only executed when the function is called or invoked.\n",
    "\n",
    "\n",
    "To execute the code within a function, you need to call the function by using its name followed by parentheses (). This triggers the execution of the code inside the function's block. The function can be called multiple times at different points in your program, allowing you to reuse the code and perform the desired task whenever needed."
   ]
  },
  {
   "cell_type": "markdown",
   "id": "3ffa3838-4b91-4795-9012-a82f477ebc82",
   "metadata": {},
   "source": [
    "**Que3.** What statement creates a function?\n",
    "\n",
    "**Ans3.**\n",
    "In Python 'def' statement is used to create or define a function."
   ]
  },
  {
   "cell_type": "markdown",
   "id": "255cd7d3-cbcb-4e26-b650-dbe9c0405ef7",
   "metadata": {},
   "source": [
    "**Que4.** What is the difference between a function and a function call?\n",
    "\n",
    "**Ans4.**\n",
    "\n",
    "A function is a piece of code which enhanced the reusability and modularity of your program. It means that piece of code need not be written again. A function call means invoking or calling that function. Unless a function is called there is no use of that function."
   ]
  },
  {
   "cell_type": "markdown",
   "id": "2c2b0d77-5488-41e2-bd98-98e449d09d3e",
   "metadata": {},
   "source": [
    "**Que5.** How many global scopes are there in a Python program? How many local scopes?\n",
    "\n",
    "**Ans5.**\n",
    "\n",
    "In a Python program, there can be one global scope and multiple local scopes.\n",
    "\n",
    "1. **Global Scope**: The global scope refers to the outermost scope of a Python program or module. It is the scope in which variables, functions, and classes are defined at the top level of the program. Any variable defined outside of any function or class is considered to be in the global scope. The global scope is accessible from anywhere within the program.\n",
    "\n",
    "2. **Local Scopes**: Local scopes are created whenever a function or a class is defined. Each function or class definition introduces a new local scope. Local scopes are nested within the global scope and are used to store variables that are specific to that particular function or class. Variables defined within a local scope are only accessible within that scope or its nested scopes.\n"
   ]
  },
  {
   "cell_type": "markdown",
   "id": "32140282-1aff-4607-b3fe-f158615aa6ac",
   "metadata": {},
   "source": [
    "**Que6.** What happens to variables in a local scope when the function call returns?\n",
    "\n",
    "**Ans6.** When a function call returns in Python, the local scope associated with that function is destroyed, and the variables defined within that local scope cease to exist. This process is known as variable scope and lifetime."
   ]
  },
  {
   "cell_type": "markdown",
   "id": "739cf95d-faae-4923-9a73-96188f8b8589",
   "metadata": {},
   "source": [
    "**Que7.** What is the concept of a return value? Is it possible to have a return value in an expression?\n",
    "\n",
    "**Ans7.**\n",
    "\n",
    "The concept of a return value in programming refers to the value that a function can send back or return to the code that called it. When a function is executed, it may perform certain operations and produce a result, which can be explicitly specified using the return statement.\n",
    "\n",
    "The return statement allows a function to pass a value or an object back to the calling code. This returned value can be assigned to a variable, used in an expression, or passed as an argument to another function.\n",
    "\n",
    "\n",
    "Yes, it is possible to have a return value in an expression. When a function call is part of an expression, the return value of the function can be used directly in that expression. For example:"
   ]
  },
  {
   "cell_type": "markdown",
   "id": "bfd18f5e-dbf1-4535-9c22-d175ffd664d8",
   "metadata": {},
   "source": [
    "**Que8.** If a function does not have a return statement, what is the return value of a call to that function?\n",
    "\n",
    "**Ans8.** If a function does not have a return statement, the return value of a call to that function is None. None is a special Python object that represents the absence of a value.\n",
    "\n",
    "When a function does not explicitly specify a return value using the return statement, or if the return statement is omitted entirely, the function still executes its code and performs any desired operations. However, it does not send any specific value back to the calling code.\n"
   ]
  },
  {
   "cell_type": "markdown",
   "id": "8e59b5c8-9c49-4439-9bcd-b275aef00f45",
   "metadata": {},
   "source": [
    "**Que9.** How do you make a function variable refer to the global variable?\n",
    "\n",
    "**Ans9.** \n",
    "  In Python, if you want to make a function variable refer to a global variable, you can use the global keyword inside the function. The global keyword allows you to indicate that a variable inside the function should be treated as a global variable rather than a local variable."
   ]
  },
  {
   "cell_type": "markdown",
   "id": "4be82910-297e-49d0-b732-0e833266ec8e",
   "metadata": {},
   "source": [
    "**Que10.** What is the data type of None?\n",
    "\n",
    "**Ans10.** The data type of None in Python is NoneType. None represents the absence of a value or a null value. It is a built-in constant and is often used to indicate the absence of a return value or as a default value for variables.\n",
    "\n",
    "\n",
    "The NoneType is a singleton object, which means there is only one instance of None in Python. It is commonly used as a placeholder when a variable or function needs to be initialized but doesn't have a meaningful value yet."
   ]
  },
  {
   "cell_type": "markdown",
   "id": "5432ac12-1459-45a7-8d4b-6e57e00fe05e",
   "metadata": {},
   "source": [
    "**Que11.** What does the sentence import areallyourpetsnamederic do?\n",
    "\n",
    "**Ans11.**  The sentence \"import areallyourpetsnamederic\" does not have any inherent meaning or functionality in Python. It is not a valid Python statement or valid Python code."
   ]
  },
  {
   "cell_type": "markdown",
   "id": "e699c62f-0345-49a2-aad9-300747a2c89e",
   "metadata": {},
   "source": [
    "**Que12.** If you had a bacon() feature in a spam module, what would you call it after importing spam?\n",
    "\n",
    "**Ans12.** After importing the \"spam\" module, you can call the \"bacon()\" feature by using the module name followed by the function name, separated by a dot."
   ]
  },
  {
   "cell_type": "markdown",
   "id": "edc3b6c7-7e81-4a3b-a817-b8df6e585372",
   "metadata": {},
   "source": [
    "**Que13.** What can you do to save a programme from crashing if it encounters an error?\n",
    "\n",
    "**Ans13.** To prevent a program from crashing when it encounters an error, you can use error handling techniques. In Python, this is typically done using try-except blocks. The try-except block allows you to catch and handle specific types of errors that may occur during the execution of your program."
   ]
  },
  {
   "cell_type": "markdown",
   "id": "a0d35581-f158-48c3-b357-039770fdb720",
   "metadata": {},
   "source": [
    "**Que14.** What is the purpose of the try clause? What is the purpose of the except clause?\n",
    "\n",
    "**Ans14.** "
   ]
  },
  {
   "cell_type": "code",
   "execution_count": null,
   "id": "cbf216d1-3c5c-42e5-93c1-3029814204e1",
   "metadata": {},
   "outputs": [],
   "source": []
  }
 ],
 "metadata": {
  "kernelspec": {
   "display_name": "Python 3 (ipykernel)",
   "language": "python",
   "name": "python3"
  },
  "language_info": {
   "codemirror_mode": {
    "name": "ipython",
    "version": 3
   },
   "file_extension": ".py",
   "mimetype": "text/x-python",
   "name": "python",
   "nbconvert_exporter": "python",
   "pygments_lexer": "ipython3",
   "version": "3.10.6"
  }
 },
 "nbformat": 4,
 "nbformat_minor": 5
}
