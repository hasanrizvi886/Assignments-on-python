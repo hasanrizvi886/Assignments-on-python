{
 "cells": [
  {
   "cell_type": "markdown",
   "id": "b8fa23a5-17e6-4dc1-9316-1847b0d44973",
   "metadata": {},
   "source": [
    "**Que 1.** In the below elements which of them are values or an expression? eg:- values can be integer or string and expressions will be mathematical operators.\n",
    "\n",
    "* \n",
    "\n",
    "'hello'\n",
    "\n",
    "-87.8\n",
    "\n",
    "- \n",
    "\n",
    "/ \n",
    "\n",
    "+\t\n",
    "\n",
    "6 \n"
   ]
  },
  {
   "cell_type": "markdown",
   "id": "4a46056f-679f-4930-ac8d-0b4009b61014",
   "metadata": {},
   "source": [
    "**Ans 1**\n",
    "\n",
    "Values=  'hello',  -87.8,  6\n",
    "\n",
    "Expression= *,  -,  /,  +  "
   ]
  },
  {
   "cell_type": "markdown",
   "id": "ad2e7bf8-f48a-4bda-8610-21be97c35f4a",
   "metadata": {},
   "source": [
    "**Que 2.** What is the difference between string and variable?"
   ]
  },
  {
   "cell_type": "markdown",
   "id": "fa3b8b89-e90b-4069-9248-b52cb79bb6cc",
   "metadata": {},
   "source": [
    "**Ans 2.**\n",
    "\n",
    "String= A string is a data type used to represent text or sequences of characters. eg. 'hello' Variable= A variable is a named storage location in a computer's memory that can hold a value. eg. a= x+y here, a is a variable"
   ]
  },
  {
   "cell_type": "markdown",
   "id": "577889a5-62b0-44c1-9942-dace6d6d68e5",
   "metadata": {},
   "source": [
    "**Que3.** Describe three different data types."
   ]
  },
  {
   "cell_type": "markdown",
   "id": "9157ea65-ad98-43a7-8231-909af22c2d3c",
   "metadata": {},
   "source": [
    "**Ans3.** There are various types of data types in python such as String, Integer, Float etc.\n",
    "1. Integer (int): The integer data type represents whole numbers without any decimal points. It can be positive, negative, or zero.\n",
    "2. Floating-Point (float): The floating-point data type represents numbers with decimal points. \n",
    "3. String: The string data type represents a sequence of characters. It is used to store textual data such as names, sentences, and symbols.\n"
   ]
  },
  {
   "cell_type": "markdown",
   "id": "2aff9913-b473-4bb8-994d-4f32264421d6",
   "metadata": {},
   "source": [
    "**Que4.** What is an expression made up of? What do all expressions do?"
   ]
  },
  {
   "cell_type": "markdown",
   "id": "bd53e594-aaa7-4277-8a82-ffa52ce8fbfa",
   "metadata": {},
   "source": [
    "**Ans4.** An expression is a combination of one or more values, variables, operators, and function calls that evaluates to a result.\n",
    "Components of an expression:\n",
    "1. Values\n",
    "2. Variables\n",
    "3. Operators etc.\n",
    "\n",
    "What expressions do:\n",
    "Expressions are evaluated to produce a resulting value or outcome. They can perform calculations, combine or manipulate data, make comparisons, and control program flow. "
   ]
  },
  {
   "cell_type": "markdown",
   "id": "ea4c03c9-36cb-44bf-9e8a-257e88b274d3",
   "metadata": {},
   "source": [
    "**Que5.** This assignment statements, like spam = 10. What is the difference between an expression and a statement?"
   ]
  },
  {
   "cell_type": "markdown",
   "id": "d321335d-0fde-4173-a244-776238aea166",
   "metadata": {},
   "source": [
    "**Ans5.** An expression is a combination of values, variables, operators, and function calls that can be evaluated to produce a single value.\n",
    "  Examples of expressions include: 5 + 3\n",
    "  \n",
    "  A statement is a complete unit of code that performs an action or a series of actions.\n",
    "Statements are used to control the flow of a program, perform assignments, declare variables, and execute operations.\n",
    "Examples of statements include: assignment statements (spam = 10)"
   ]
  },
  {
   "cell_type": "markdown",
   "id": "be312018-b1e1-49a7-a3a0-b89daa82ee74",
   "metadata": {},
   "source": [
    "**Que6.** After running the following code, what does the variable bacon contain?\n",
    "bacon = 22\n",
    "bacon + 1\n",
    "\n",
    "**Ans6.**  23\n"
   ]
  },
  {
   "cell_type": "markdown",
   "id": "2a8d4ce8-f4dd-4701-9ab3-0944dafacc21",
   "metadata": {},
   "source": [
    "**Que7.** What should the values of the following two terms be?\n",
    "'spam' + 'spamspam'\n",
    "'spam' * 3\n",
    "\n",
    "**Ans7.** 'spamspamspam'"
   ]
  },
  {
   "cell_type": "markdown",
   "id": "f62bd04d-670b-45b1-882e-6a3a2f9061cd",
   "metadata": {},
   "source": [
    "**Que8.** Why is eggs a valid variable name while 100 is invalid?\n",
    "\n",
    "**Ans8.**  Since 'eggs' starts with a letter, it is a valid variable name on the other side '100' invalid as a variable name because it starts with a number."
   ]
  },
  {
   "cell_type": "markdown",
   "id": "c2802ce1-d0b9-4ecc-9271-79d282c233b5",
   "metadata": {},
   "source": [
    "**Que9.** What three functions can be used to get the integer, floating-point number, or string version of a value?\n",
    "\n",
    "**Ans9.** \n",
    "\n",
    "For Integer,\n",
    "\n",
    "    value = \"10\"\n",
    "    integer_value = int(value)\n",
    "    print(integer_value)  # Output: 10\n",
    "\n",
    "\n",
    "For floating-point,\n",
    "  \n",
    "    value = \"3.14\"\n",
    "    float_value = float(value)\n",
    "    print(float_value)  # Output: 3.14\n",
    "\n",
    "For String,\n",
    "\n",
    "    value = 42\n",
    "    string_value = str(value)\n",
    "    print(string_value)  # Output: \"42\"\n"
   ]
  },
  {
   "cell_type": "markdown",
   "id": "ff8e322c-def2-4728-acff-ad075bf3b50e",
   "metadata": {},
   "source": [
    "**Que10.** Why does this expression cause an error? How can you fix it?\n",
    "'I have eaten ' + 99 + ' burritos.'\n",
    "\n",
    "**Ans10.**  This code will gie an error because \n"
   ]
  },
  {
   "cell_type": "code",
   "execution_count": null,
   "id": "90db90a6-b5c5-4cee-87cd-2db9bb7a43c7",
   "metadata": {},
   "outputs": [],
   "source": []
  }
 ],
 "metadata": {
  "kernelspec": {
   "display_name": "Python 3 (ipykernel)",
   "language": "python",
   "name": "python3"
  },
  "language_info": {
   "codemirror_mode": {
    "name": "ipython",
    "version": 3
   },
   "file_extension": ".py",
   "mimetype": "text/x-python",
   "name": "python",
   "nbconvert_exporter": "python",
   "pygments_lexer": "ipython3",
   "version": "3.10.6"
  }
 },
 "nbformat": 4,
 "nbformat_minor": 5
}
